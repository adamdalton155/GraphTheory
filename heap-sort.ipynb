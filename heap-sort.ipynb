{
 "cells": [
  {
   "cell_type": "markdown",
   "id": "9b06c58c",
   "metadata": {},
   "source": [
    "<h2>Introduction</h2>\n",
    "<h4>Heap Sort notebook</h4>\n",
    "<h5>G00358662 - Adam Dalton</h5>\n",
    "<hr>\n",
    "<p>Within this notebook, I will be discussing four main topics...</p>\n",
    "<ul>\n",
    "    <li>Explanation of what a rooted binary tree is</li>\n",
    "    <li>Overview of how the heap sort algorithm works, with reference to trees.</li>\n",
    "    <li>Python function implementing Heap Sort.</li>\n",
    "    <li>Explanation why, in the worst case, heap sort is more efficient than bubble sort.\n",
    "</li>\n",
    "<ul>"
   ]
  },
  {
   "cell_type": "markdown",
   "id": "cb968e5f",
   "metadata": {},
   "source": []
  }
 ],
 "metadata": {
  "kernelspec": {
   "display_name": "Python 3 (ipykernel)",
   "language": "python",
   "name": "python3"
  },
  "language_info": {
   "codemirror_mode": {
    "name": "ipython",
    "version": 3
   },
   "file_extension": ".py",
   "mimetype": "text/x-python",
   "name": "python",
   "nbconvert_exporter": "python",
   "pygments_lexer": "ipython3",
   "version": "3.9.7"
  }
 },
 "nbformat": 4,
 "nbformat_minor": 5
}
