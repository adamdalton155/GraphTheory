{
 "cells": [
  {
   "cell_type": "markdown",
   "id": "e320209e",
   "metadata": {},
   "source": [
    "<h2>Introduction</h2>\n",
    "<h4>Heap Sort notebook</h4>\n",
    "<h5>G00358662 - Adam Dalton</h5>\n",
    "<hr>\n",
    "<p>Within this notebook, I will be discussing four main topics...</p>\n",
    "<ul>\n",
    "    <li>Explanation of what a rooted binary tree is</li>\n",
    "    <li>Overview of how the heap sort algorithm works, with reference to trees.</li>\n",
    "    <li>Python function implementing Heap Sort.</li>\n",
    "    <li>Explanation why, in the worst case, heap sort is more efficient than bubble sort.\n",
    "</li>\n",
    "<ul>"
   ]
  },
  {
   "cell_type": "markdown",
   "id": "bb3e1253",
   "metadata": {},
   "source": [
    "<h2>Topic one - Explanation of what a rooted binary tree is</h2>"
   ]
  },
  {
   "cell_type": "markdown",
   "id": "735653bb",
   "metadata": {},
   "source": [
    "To start, a binary rooted tree is a connected graph with a special node. This node is known as the root of the tree. Off of the root there edges which are children of the parent(root node). All of the children either directly or indirectly originates from the root(parent) node. This is known as an ordered rooted tree. If each internal vertex of a rooted tree has exactly m children, it is known as a 'full m-ary tree' where as if m = 2, the tree is then known as a binary tree."
   ]
  },
  {
   "cell_type": "code",
   "execution_count": null,
   "id": "7a9b7e29",
   "metadata": {},
   "outputs": [],
   "source": []
  }
 ],
 "metadata": {
  "kernelspec": {
   "display_name": "Python 3 (ipykernel)",
   "language": "python",
   "name": "python3"
  },
  "language_info": {
   "codemirror_mode": {
    "name": "ipython",
    "version": 3
   },
   "file_extension": ".py",
   "mimetype": "text/x-python",
   "name": "python",
   "nbconvert_exporter": "python",
   "pygments_lexer": "ipython3",
   "version": "3.9.7"
  }
 },
 "nbformat": 4,
 "nbformat_minor": 5
}
