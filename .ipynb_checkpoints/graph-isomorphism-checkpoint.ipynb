{
 "cells": [
  {
   "cell_type": "markdown",
   "id": "34f1d1c1",
   "metadata": {},
   "source": [
    "<h2>Introduction</h2>\n",
    "<h3>Graph-Isomorphism notebook</h3>\n",
    "<h5>G00358662 - Adam Dalton</h5>\n",
    "<hr>\n",
    "<p>Within this notebook, I will be discussing four main topics...</p>\n",
    "<ul>\n",
    "    <li>Definition of graph isomorphism</li>\n",
    "    <li>Specification of the Graph Isomorphism Problem</li>\n",
    "    <li>Python function to determine whether two graphs are isomorphic</li>\n",
    "    <li>Explanation of the main reason computer scientists are interested in the complexity of the Graph Isomorphism Problem\n",
    "</li>\n",
    "<ul>"
   ]
  },
  {
   "cell_type": "markdown",
   "id": "4a239069",
   "metadata": {},
   "source": [
    "<h2>Definition of graph isomorphism</h2>"
   ]
  },
  {
   "cell_type": "markdown",
   "id": "396b282d",
   "metadata": {},
   "source": [
    "Graph isomorphism means that a graph can exist in different forms having the same number of vertices, edges and also keep the same edge connectivity. These graphs are called isomorphic graphs. Two graphs are said to be ismorphic if...\n",
    "<ul>\n",
    "    <li>The number of verticies and edges are the same</li>\n",
    "    <li>The edges are connected</li>\n",
    "</ul>"
   ]
  },
  {
   "cell_type": "code",
   "execution_count": null,
   "id": "801a8cd7",
   "metadata": {},
   "outputs": [],
   "source": []
  }
 ],
 "metadata": {
  "kernelspec": {
   "display_name": "Python 3 (ipykernel)",
   "language": "python",
   "name": "python3"
  },
  "language_info": {
   "codemirror_mode": {
    "name": "ipython",
    "version": 3
   },
   "file_extension": ".py",
   "mimetype": "text/x-python",
   "name": "python",
   "nbconvert_exporter": "python",
   "pygments_lexer": "ipython3",
   "version": "3.9.7"
  }
 },
 "nbformat": 4,
 "nbformat_minor": 5
}
